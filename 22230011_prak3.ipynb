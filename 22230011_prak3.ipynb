{
 "cells": [
  {
   "cell_type": "code",
   "execution_count": 1,
   "id": "0f378c1e-29eb-4477-9ad6-88d94556917c",
   "metadata": {},
   "outputs": [
    {
     "name": "stdout",
     "output_type": "stream",
     "text": [
      "Defaulting to user installation because normal site-packages is not writeable\n",
      "Looking in links: /usr/share/pip-wheels\n",
      "Requirement already satisfied: Sastrawi in ./.local/lib/python3.11/site-packages (1.0.1)\n"
     ]
    }
   ],
   "source": [
    "!pip install Sastrawi"
   ]
  },
  {
   "cell_type": "code",
   "execution_count": 1,
   "id": "7bc98b33-c023-4ecd-b149-30a6435a3feb",
   "metadata": {},
   "outputs": [
    {
     "name": "stdout",
     "output_type": "stream",
     "text": [
      "Dokumen: Barangnya sesuai harapan, cakep dan mulus. Penjualnya juga baik dan ramah. Overall, puas banget belanja di sini.\n",
      "Case Folding: barangnya sesuai harapan, cakep dan mulus. penjualnya juga baik dan ramah. overall, puas banget belanja di sini.\n",
      "Token:\n",
      "['barangnya', 'sesuai', 'harapan', 'cakep', 'dan', 'mulus', 'penjualnya', 'juga', 'baik', 'dan', 'ramah', 'overall', 'puas', 'banget', 'belanja', 'di', 'sini']\n",
      "Hasil Stemming:\n",
      "barang sesuai harap cakep dan mulus jual juga baik dan ramah overall puas banget belanja di sini\n",
      "Hasil Setelah Stopword Removal:\n",
      "['barang', 'sesuai', 'harap', 'cakep', 'mulus', 'jual', 'baik', 'ramah', 'overall', 'puas', 'banget', 'belanja', 'sini']\n"
     ]
    }
   ],
   "source": [
    "# Dokumen awal\n",
    "dokumen1 = \"Barangnya sesuai harapan, cakep dan mulus. Penjualnya juga baik dan ramah. Overall, puas banget belanja di sini.\"\n",
    "print(\"Dokumen: \" + dokumen1)\n",
    "\n",
    "# Case Folding\n",
    "hasil_cf = str.lower(dokumen1)\n",
    "print(\"Case Folding: \" + hasil_cf)\n",
    "\n",
    "# Tokenizing\n",
    "from nltk.tokenize import RegexpTokenizer\n",
    "tokenizer = RegexpTokenizer(r'\\w+')\n",
    "hasil_token = tokenizer.tokenize(hasil_cf)\n",
    "print(\"Token:\")\n",
    "print(hasil_token)\n",
    "\n",
    "# Stemming\n",
    "from Sastrawi.Stemmer.StemmerFactory import StemmerFactory\n",
    "factory = StemmerFactory()\n",
    "stemmer = factory.create_stemmer()\n",
    "input_stemm = str(hasil_token)\n",
    "hasil_stemm = stemmer.stem(input_stemm)\n",
    "print(\"Hasil Stemming:\")\n",
    "print(hasil_stemm)\n",
    "\n",
    "# Filtering\n",
    "# Tokenisasi ulang hasil stemming\n",
    "token_stemm = tokenizer.tokenize(hasil_stemm)\n",
    "\n",
    "# Ambil daftar stopwords\n",
    "from Sastrawi.StopWordRemover.StopWordRemoverFactory import StopWordRemoverFactory\n",
    "stop_factory = StopWordRemoverFactory()\n",
    "stopwords = stop_factory.get_stop_words()\n",
    "\n",
    "# Hapus stopwords dari hasil stemming\n",
    "hasil_final = [word for word in token_stemm if word not in stopwords]\n",
    "print(\"Hasil Setelah Stopword Removal:\")\n",
    "print(hasil_final)\n"
   ]
  },
  {
   "cell_type": "code",
   "execution_count": 2,
   "id": "0575b4df-017f-4bc6-a2f5-ccc5c9e4d446",
   "metadata": {},
   "outputs": [
    {
     "name": "stdout",
     "output_type": "stream",
     "text": [
      "Dokumen 1 Barangnya sesuai harapan, cakep dan mulus. Penjualnya juga baik dan ramah. Overall, puas banget belanja di sini.\n",
      "Case Folding: barangnya sesuai harapan, cakep dan mulus. penjualnya juga baik dan ramah. overall, puas banget belanja di sini.\n",
      "Tokenizing: ['barangnya', 'sesuai', 'harapan', 'cakep', 'dan', 'mulus', 'penjualnya', 'juga', 'baik', 'dan', 'ramah', 'overall', 'puas', 'banget', 'belanja', 'di', 'sini']\n",
      "Stemming: barang sesuai harap cakep dan mulus jual juga baik dan ramah overall puas banget belanja di sini\n",
      "--------------------------------------------------------------------------------\n",
      "Dokumen 2 Sesuai pesanan. Sayangnya pengiriman agak telat.\n",
      "Case Folding: sesuai pesanan. sayangnya pengiriman agak telat.\n",
      "Tokenizing: ['sesuai', 'pesanan', 'sayangnya', 'pengiriman', 'agak', 'telat']\n",
      "Stemming: sesuai pesan sayang kirim agak telat\n",
      "--------------------------------------------------------------------------------\n",
      "Dokumen 3 Puas banget belanja di sini. Barang ok dan harga juga sesuai kantong. Sip deh.\n",
      "Case Folding: puas banget belanja di sini. barang ok dan harga juga sesuai kantong. sip deh.\n",
      "Tokenizing: ['puas', 'banget', 'belanja', 'di', 'sini', 'barang', 'ok', 'dan', 'harga', 'juga', 'sesuai', 'kantong', 'sip', 'deh']\n",
      "Stemming: puas banget belanja di sini barang ok dan harga juga sesuai kantong sip deh\n",
      "--------------------------------------------------------------------------------\n"
     ]
    }
   ],
   "source": [
    "# Import library\n",
    "from nltk.tokenize import RegexpTokenizer\n",
    "from Sastrawi.Stemmer.StemmerFactory import StemmerFactory\n",
    "\n",
    "# Inisialisasi stemmer\n",
    "factory = StemmerFactory()\n",
    "stemmer = factory.create_stemmer()\n",
    "tokenizer = RegexpTokenizer(r'\\w+')\n",
    "\n",
    "# List dokumen\n",
    "dokumen = [\n",
    "    \"Barangnya sesuai harapan, cakep dan mulus. Penjualnya juga baik dan ramah. Overall, puas banget belanja di sini.\",\n",
    "    \"Sesuai pesanan. Sayangnya pengiriman agak telat.\",\n",
    "    \"Puas banget belanja di sini. Barang ok dan harga juga sesuai kantong. Sip deh.\"\n",
    "]\n",
    "\n",
    "# Proses setiap dokumen\n",
    "for i, isi in enumerate(dokumen):\n",
    "    print(f\"Dokumen {i+1} {isi}\")  # Tampilkan isi dokumen\n",
    "\n",
    "    # Case folding\n",
    "    hasil_cf = isi.lower()\n",
    "    print(\"Case Folding:\", hasil_cf)\n",
    "\n",
    "    # Tokenizing\n",
    "    hasil_token = tokenizer.tokenize(hasil_cf)\n",
    "    print(\"Tokenizing:\", hasil_token)\n",
    "\n",
    "    # Stemming\n",
    "    hasil_stemm = stemmer.stem(' '.join(hasil_token))\n",
    "    print(\"Stemming:\", hasil_stemm)\n",
    "    print(\"-\" * 80)  # Garis pemisah antar dokumen\n"
   ]
  },
  {
   "cell_type": "code",
   "execution_count": null,
   "id": "23e05626-d7a0-40ac-8008-4df2a0d03fcd",
   "metadata": {},
   "outputs": [],
   "source": []
  }
 ],
 "metadata": {
  "kernelspec": {
   "display_name": "anaconda-panel-2023.05-py310",
   "language": "python",
   "name": "conda-env-anaconda-panel-2023.05-py310-py"
  },
  "language_info": {
   "codemirror_mode": {
    "name": "ipython",
    "version": 3
   },
   "file_extension": ".py",
   "mimetype": "text/x-python",
   "name": "python",
   "nbconvert_exporter": "python",
   "pygments_lexer": "ipython3",
   "version": "3.11.5"
  }
 },
 "nbformat": 4,
 "nbformat_minor": 5
}
